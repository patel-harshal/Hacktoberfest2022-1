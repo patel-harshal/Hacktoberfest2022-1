{
 "cells": [
  {
   "cell_type": "code",
   "execution_count": 14,
   "id": "eedd849b",
   "metadata": {},
   "outputs": [
    {
     "name": "stdout",
     "output_type": "stream",
     "text": [
      "15\n",
      "60\n",
      "15 20 30 50 60 "
     ]
    }
   ],
   "source": [
    "class Node:\n",
    "    def __init__(self,data):\n",
    "        self.data = data\n",
    "        self.left = None\n",
    "        self.right = None\n",
    "\n",
    "def insertNode(root, data):\n",
    "    if root is None:\n",
    "        return Node(data)\n",
    "    if root.data > data:\n",
    "        root.left = insertNode(root.left, data)\n",
    "    else:\n",
    "        root.right = insertNode(root.right, data)    \n",
    "    return root\n",
    "\n",
    "def inorder(root):\n",
    "    if root:\n",
    "        inorder(root.left)\n",
    "        print(root.data, end = \" \")\n",
    "        inorder(root.right)\n",
    "\n",
    "def treeSearch(x, k):\n",
    "    if x == None or k == x.data:\n",
    "        return x\n",
    "    if k < x.data:\n",
    "        return treeSearch(x.left, k)\n",
    "    else:\n",
    "        return treeSearch(x.right, k)\n",
    "\n",
    "def minimum(x):\n",
    "    while x.left != None:\n",
    "        x = x.left\n",
    "    return x\n",
    "\n",
    "def maximum(x):\n",
    "    while x.right != None:\n",
    "        x = x.right\n",
    "    return x\n",
    "    \n",
    "nd = Node(50)\n",
    "nd = insertNode(nd,20)\n",
    "nd = insertNode(nd,60)\n",
    "nd = insertNode(nd,30)\n",
    "nd = insertNode(nd,15)\n",
    "print(minimum(nd).data)\n",
    "print(maximum(nd).data)\n",
    "inorder(nd)"
   ]
  },
  {
   "cell_type": "code",
   "execution_count": null,
   "id": "4c8254ff",
   "metadata": {},
   "outputs": [],
   "source": []
  }
 ],
 "metadata": {
  "kernelspec": {
   "display_name": "Python 3",
   "language": "python",
   "name": "python3"
  },
  "language_info": {
   "codemirror_mode": {
    "name": "ipython",
    "version": 3
   },
   "file_extension": ".py",
   "mimetype": "text/x-python",
   "name": "python",
   "nbconvert_exporter": "python",
   "pygments_lexer": "ipython3",
   "version": "3.8.8"
  }
 },
 "nbformat": 4,
 "nbformat_minor": 5
}
