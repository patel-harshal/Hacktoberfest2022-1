{
 "cells": [
  {
   "cell_type": "code",
   "execution_count": 1,
   "id": "0498612b",
   "metadata": {},
   "outputs": [
    {
     "data": {
      "text/plain": [
       "2"
      ]
     },
     "execution_count": 1,
     "metadata": {},
     "output_type": "execute_result"
    }
   ],
   "source": [
    "class Node:\n",
    "    def __init__(self,data):\n",
    "        self.data = data;\n",
    "        self.left = None;\n",
    "        self.right = None;\n",
    "\n",
    "\n",
    "def insertNode(root, data):\n",
    "    if root is None:\n",
    "        return Node(data)\n",
    "    \n",
    "    if root.data > data:\n",
    "        root.left = insertNode(root.left, data)\n",
    "    else:\n",
    "        root.right = insertNode(root.right, data)    \n",
    "    return root\n",
    "\n",
    "def find_height(root):\n",
    "    if root is None:\n",
    "        return -1\n",
    "    else:\n",
    "        leftHeight = find_height(root.left)\n",
    "        rightHeight = find_height(root.right)\n",
    "        \n",
    "    return max(leftHeight , rightHeight) + 1 \n",
    "    \n",
    "nd = Node(50)\n",
    "nd = insertNode(nd,20)\n",
    "nd = insertNode(nd,60)\n",
    "nd = insertNode(nd,30)\n",
    "nd = insertNode(nd,15)\n",
    "\n",
    "find_height(nd)"
   ]
  },
  {
   "cell_type": "code",
   "execution_count": null,
   "id": "dbb54986",
   "metadata": {},
   "outputs": [],
   "source": []
  }
 ],
 "metadata": {
  "kernelspec": {
   "display_name": "Python 3",
   "language": "python",
   "name": "python3"
  },
  "language_info": {
   "codemirror_mode": {
    "name": "ipython",
    "version": 3
   },
   "file_extension": ".py",
   "mimetype": "text/x-python",
   "name": "python",
   "nbconvert_exporter": "python",
   "pygments_lexer": "ipython3",
   "version": "3.8.8"
  }
 },
 "nbformat": 4,
 "nbformat_minor": 5
}
