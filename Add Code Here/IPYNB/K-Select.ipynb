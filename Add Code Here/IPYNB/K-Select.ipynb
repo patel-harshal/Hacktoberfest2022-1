{
 "cells": [
  {
   "cell_type": "code",
   "execution_count": 63,
   "id": "adf916fc",
   "metadata": {},
   "outputs": [],
   "source": [
    "def QuickSelect(array, left, right, k):\n",
    "    if left == right:\n",
    "        return left\n",
    "    \n",
    "    pivotIndex = Partition(array, left, right)\n",
    "    \n",
    "    if k == pivotIndex:\n",
    "        return k-1\n",
    "    elif k < pivotIndex:\n",
    "        right = pivotIndex - 1\n",
    "    else:\n",
    "        left = pivotIndex + 1\n",
    "    return QuickSelect(array, left, right, k)"
   ]
  },
  {
   "cell_type": "code",
   "execution_count": 64,
   "id": "eb8199dc",
   "metadata": {},
   "outputs": [],
   "source": [
    "def Partition(array, low, high):\n",
    "    pivot = array[high]\n",
    "    i = low - 1\n",
    "    for idx in range(low, high):\n",
    "        if array[idx] < pivot:\n",
    "            i+=1\n",
    "            temp = array[i]\n",
    "            array[i] = array[idx]\n",
    "            array[idx] = temp\n",
    "    \n",
    "    temp = array[i+1]\n",
    "    array[i+1] = array[high]\n",
    "    array[high] = temp\n",
    "    return i+1"
   ]
  },
  {
   "cell_type": "code",
   "execution_count": 65,
   "id": "5383427c",
   "metadata": {},
   "outputs": [
    {
     "data": {
      "text/plain": [
       "14"
      ]
     },
     "execution_count": 65,
     "metadata": {},
     "output_type": "execute_result"
    }
   ],
   "source": [
    "arr = [1, 20, 14, 3, 22, 11]\n",
    "index = QuickSelect(arr , 0, len(arr)-1, 4)\n",
    "arr[index]"
   ]
  }
 ],
 "metadata": {
  "kernelspec": {
   "display_name": "Python 3",
   "language": "python",
   "name": "python3"
  },
  "language_info": {
   "codemirror_mode": {
    "name": "ipython",
    "version": 3
   },
   "file_extension": ".py",
   "mimetype": "text/x-python",
   "name": "python",
   "nbconvert_exporter": "python",
   "pygments_lexer": "ipython3",
   "version": "3.8.8"
  }
 },
 "nbformat": 4,
 "nbformat_minor": 5
}
