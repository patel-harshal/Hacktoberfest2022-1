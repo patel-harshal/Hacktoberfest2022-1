{
 "cells": [
  {
   "cell_type": "code",
   "execution_count": 2,
   "metadata": {},
   "outputs": [
    {
     "name": "stdout",
     "output_type": "stream",
     "text": [
      "Requirement already satisfied: opencv-python in c:\\users\\ankit\\anaconda3\\lib\\site-packages (4.5.3.56)\n",
      "Requirement already satisfied: numpy>=1.17.3 in c:\\users\\ankit\\anaconda3\\lib\\site-packages (from opencv-python) (1.20.1)\n",
      "Note: you may need to restart the kernel to use updated packages.\n"
     ]
    }
   ],
   "source": [
    "pip install opencv-python"
   ]
  },
  {
   "cell_type": "code",
   "execution_count": 3,
   "metadata": {},
   "outputs": [
    {
     "name": "stdout",
     "output_type": "stream",
     "text": [
      "Requirement already satisfied: caer in c:\\users\\ankit\\anaconda3\\lib\\site-packages (1.9.8)\n",
      "Requirement already satisfied: mypy in c:\\users\\ankit\\anaconda3\\lib\\site-packages (from caer) (0.910)\n",
      "Requirement already satisfied: typing-extensions in c:\\users\\ankit\\anaconda3\\lib\\site-packages (from caer) (3.7.4.3)\n",
      "Requirement already satisfied: opencv-contrib-python in c:\\users\\ankit\\anaconda3\\lib\\site-packages (from caer) (4.5.2.54)\n",
      "Requirement already satisfied: numpy in c:\\users\\ankit\\anaconda3\\lib\\site-packages (from caer) (1.20.1)\n",
      "Requirement already satisfied: mypy-extensions<0.5.0,>=0.4.3 in c:\\users\\ankit\\anaconda3\\lib\\site-packages (from mypy->caer) (0.4.3)\n",
      "Requirement already satisfied: toml in c:\\users\\ankit\\anaconda3\\lib\\site-packages (from mypy->caer) (0.10.2)\n",
      "Note: you may need to restart the kernel to use updated packages.\n"
     ]
    }
   ],
   "source": [
    "pip install caer      "
   ]
  },
  {
   "cell_type": "code",
   "execution_count": 4,
   "metadata": {},
   "outputs": [],
   "source": [
    "import cv2 as cv\n",
    "import pandas as pd\n",
    "import numpy as np"
   ]
  },
  {
   "cell_type": "code",
   "execution_count": 5,
   "metadata": {},
   "outputs": [
    {
     "data": {
      "text/plain": [
       "-1"
      ]
     },
     "execution_count": 5,
     "metadata": {},
     "output_type": "execute_result"
    }
   ],
   "source": [
    "img=cv.imread(\"C:\\\\Users\\\\ankit\\\\Documents\\\\Project Files\\\\Face Detection 2 .jpg\")\n",
    "cv.imshow(\"pic\",img)\n",
    "cv.waitKey(0)"
   ]
  },
  {
   "cell_type": "code",
   "execution_count": 6,
   "metadata": {},
   "outputs": [],
   "source": [
    "################ Resize ###############\n",
    "def rescale_Frame(frame,scale=0.25):       # scale 0.75 means scaling by 75% of actual size of video and img\n",
    "        width=int(frame.shape[1]*scale)    # 1 for width\n",
    "        height=int(frame.shape[0]*scale)   # 0 for height\n",
    "        dimension=(width,height)\n",
    "        return cv.resize(frame,dimension,interpolation=cv.INTER_AREA)"
   ]
  },
  {
   "cell_type": "code",
   "execution_count": 7,
   "metadata": {},
   "outputs": [
    {
     "data": {
      "text/plain": [
       "-1"
      ]
     },
     "execution_count": 7,
     "metadata": {},
     "output_type": "execute_result"
    }
   ],
   "source": [
    "########### resizing for img ############\n",
    "resized_img=rescale_Frame(img)\n",
    "cv.imshow(\"Resized\",resized_img)\n",
    "cv.waitKey(0)"
   ]
  },
  {
   "cell_type": "code",
   "execution_count": 8,
   "metadata": {},
   "outputs": [
    {
     "data": {
      "text/plain": [
       "-1"
      ]
     },
     "execution_count": 8,
     "metadata": {},
     "output_type": "execute_result"
    }
   ],
   "source": [
    "####### Blank img ##########\n",
    "blank=np.zeros((500,500,3),dtype=\"uint8\")           # (height,width,channel)=(500,500,3)\n",
    "cv.imshow(\"blank\",blank)                            # unit8 is image data type\n",
    "cv.waitKey(0)"
   ]
  },
  {
   "cell_type": "code",
   "execution_count": 9,
   "metadata": {},
   "outputs": [
    {
     "data": {
      "text/plain": [
       "-1"
      ]
     },
     "execution_count": 9,
     "metadata": {},
     "output_type": "execute_result"
    }
   ],
   "source": [
    "######## colour filling #######\n",
    "blank[:]=0,0,255                           # (0,255,0) = for green\n",
    "cv.imshow(\"green\",blank)                   # (0,0,255) = for red        \n",
    "cv.waitKey(0)"
   ]
  },
  {
   "cell_type": "code",
   "execution_count": 10,
   "metadata": {},
   "outputs": [
    {
     "data": {
      "text/plain": [
       "-1"
      ]
     },
     "execution_count": 10,
     "metadata": {},
     "output_type": "execute_result"
    }
   ],
   "source": [
    "blank[200:300,300:400]=0,255,0\n",
    "cv.imshow(\"red\",blank)                   # (0,0,255) = for red        \n",
    "cv.waitKey(0)"
   ]
  },
  {
   "cell_type": "code",
   "execution_count": 11,
   "metadata": {},
   "outputs": [
    {
     "data": {
      "text/plain": [
       "-1"
      ]
     },
     "execution_count": 11,
     "metadata": {},
     "output_type": "execute_result"
    }
   ],
   "source": [
    "######## gray color img ######\n",
    "gray=cv.cvtColor(img,cv.COLOR_BGR2GRAY)\n",
    "cv.imshow(\"Gray\",gray)\n",
    "cv.waitKey(0)"
   ]
  },
  {
   "cell_type": "code",
   "execution_count": 12,
   "metadata": {},
   "outputs": [
    {
     "data": {
      "text/plain": [
       "-1"
      ]
     },
     "execution_count": 12,
     "metadata": {},
     "output_type": "execute_result"
    }
   ],
   "source": [
    "gray=cv.cvtColor(resized_img,cv.COLOR_BGR2GRAY)\n",
    "cv.imshow(\"Gray\",gray)\n",
    "cv.waitKey(0)"
   ]
  },
  {
   "cell_type": "code",
   "execution_count": 13,
   "metadata": {},
   "outputs": [
    {
     "data": {
      "text/plain": [
       "-1"
      ]
     },
     "execution_count": 13,
     "metadata": {},
     "output_type": "execute_result"
    }
   ],
   "source": [
    "######### Rectangle shape #########\n",
    "rect=cv.rectangle(blank,(0,0),(250,250),(0,255,0),thickness=2)\n",
    "cv.imshow(\"Rectangle\",rect)\n",
    "cv.waitKey(0)\n"
   ]
  },
  {
   "cell_type": "code",
   "execution_count": 14,
   "metadata": {},
   "outputs": [
    {
     "data": {
      "text/plain": [
       "-1"
      ]
     },
     "execution_count": 14,
     "metadata": {},
     "output_type": "execute_result"
    }
   ],
   "source": [
    "rect=cv.rectangle(blank,(0,0),(250,500),(0,255,0),thickness=2)\n",
    "cv.imshow(\"Rectangle\",rect)\n",
    "cv.waitKey(0)"
   ]
  },
  {
   "cell_type": "code",
   "execution_count": 15,
   "metadata": {},
   "outputs": [
    {
     "data": {
      "text/plain": [
       "-1"
      ]
     },
     "execution_count": 15,
     "metadata": {},
     "output_type": "execute_result"
    }
   ],
   "source": [
    "####### Circle Shape #########\n",
    "circ=cv.circle(blank,(blank.shape[1]//2,blank.shape[0]//2),40,(0,255,0),thickness=3)\n",
    "cv.imshow(\"Circle\",circ)\n",
    "cv.waitKey(0)"
   ]
  },
  {
   "cell_type": "code",
   "execution_count": 16,
   "metadata": {},
   "outputs": [
    {
     "data": {
      "text/plain": [
       "-1"
      ]
     },
     "execution_count": 16,
     "metadata": {},
     "output_type": "execute_result"
    }
   ],
   "source": [
    "######## Blur img ########\n",
    "blur=cv.GaussianBlur(resized_img,(3,3),cv.BORDER_DEFAULT)\n",
    "cv.imshow(\"Blur\",blur)\n",
    "cv.waitKey(0)"
   ]
  },
  {
   "cell_type": "code",
   "execution_count": null,
   "metadata": {},
   "outputs": [],
   "source": [
    "######### Edge Cascade ##########\n",
    "canny=cv.Canny(resized_img,125,175)\n",
    "cv.imshow(\"Edge Cascade\",canny)\n",
    "cv.waitKey(0)"
   ]
  },
  {
   "cell_type": "code",
   "execution_count": null,
   "metadata": {},
   "outputs": [],
   "source": [
    "######### Dilating the img #######\n",
    "dilat=cv.dilate(canny,(3,3),iterations=1)\n",
    "cv.imshow(\"Dilating\",dilat)\n",
    "cv.waitKey(0)"
   ]
  },
  {
   "cell_type": "code",
   "execution_count": null,
   "metadata": {},
   "outputs": [],
   "source": [
    "######### Eroding ######\n",
    "erode=cv.erode(canny,(3,3),iterations=1)\n",
    "cv.imshow(\"Eroding\",erode)\n",
    "cv.waitKey(0)"
   ]
  },
  {
   "cell_type": "code",
   "execution_count": null,
   "metadata": {},
   "outputs": [],
   "source": [
    "####### Cropping ######\n",
    "crop=resized_img[50:200,200:400]\n",
    "cv.imshow(\"Cropping\",crop)\n",
    "cv.waitKey(0)"
   ]
  },
  {
   "cell_type": "code",
   "execution_count": null,
   "metadata": {},
   "outputs": [],
   "source": [
    "############# Image Transformation ###########\n",
    "# translation = moving in x and y axis\n",
    "def translate(resized_img,x,y):\n",
    "    transMat=np.float32([[1,0,x],[0,1,y]])        # transMat= translation matrix\n",
    "    dimension= (resized_img.shape[1],resized_img.shape[0])    # 0 = height && 1 = weight\n",
    "    return cv.warpAffine(resized_img,transMat,dimension)"
   ]
  },
  {
   "cell_type": "code",
   "execution_count": null,
   "metadata": {},
   "outputs": [],
   "source": [
    "trans=translate(resized_img,-100,-100)           #  -x = Left ,,, x = Right\n",
    "cv.imshow(\"Translation\",trans)                   # -y = Up ,,,,, y = Down\n",
    "cv.waitKey(0)"
   ]
  },
  {
   "cell_type": "code",
   "execution_count": null,
   "metadata": {},
   "outputs": [],
   "source": [
    "######### Rotation ########\n",
    "def rotate(img,angle,rotPoint=None):\n",
    "    (height,width)=resized_img.shape[:2]\n",
    "    if rotPoint is None:\n",
    "        rotPoint=(width//2,height//2)\n",
    "    rotMat=cv.getRotationMatrix2D(rotPoint,angle,1.0)\n",
    "    dimension=(width,height)\n",
    "    return cv.warpAffine(resized_img,rotMat,dimension)"
   ]
  },
  {
   "cell_type": "code",
   "execution_count": null,
   "metadata": {},
   "outputs": [],
   "source": [
    "rota=rotate(resized_img,45)          \n",
    "cv.imshow(\"Rotation\",rota)                   \n",
    "cv.waitKey(0)"
   ]
  },
  {
   "cell_type": "code",
   "execution_count": null,
   "metadata": {},
   "outputs": [],
   "source": [
    "####### Resizing ########\n",
    "resize=cv.resize(resized_img,(500,500),interpolation=cv.INTER_CUBIC)\n",
    "cv.imshow(\"Resized\",resize)                 \n",
    "cv.waitKey(0)"
   ]
  },
  {
   "cell_type": "code",
   "execution_count": null,
   "metadata": {},
   "outputs": [],
   "source": [
    "######### Flipping ########\n",
    "flip=cv.flip(resize,0)\n",
    "cv.imshow(\"Flipp\",flip)\n",
    "cv.waitKey(0)"
   ]
  },
  {
   "cell_type": "code",
   "execution_count": null,
   "metadata": {},
   "outputs": [],
   "source": [
    "######## Contour Detection ########\n",
    "contour,hierarchies=cv.findContours(canny,cv.RETR_TREE,cv.CHAIN_APPROX_NONE)      # RETR_TREE = all hierarchar contour\n",
    "print(f\"{len(contour)} contour(s,found:)\")"
   ]
  },
  {
   "cell_type": "code",
   "execution_count": null,
   "metadata": {},
   "outputs": [],
   "source": [
    "contour,hierarchies=cv.findContours(canny,cv.RETR_EXTERNAL,cv.CHAIN_APPROX_NONE)  # RETR_EXTERNAL = only external contour\n",
    "print(f\"{len(contour)} contour(s,found:)\")"
   ]
  },
  {
   "cell_type": "code",
   "execution_count": null,
   "metadata": {},
   "outputs": [],
   "source": [
    "contour,hierarchies=cv.findContours(canny,cv.RETR_LIST,cv.CHAIN_APPROX_NONE)    # RETR_LIST = all countour in a lit\n",
    "print(f\"{len(contour)} contour(s,found:)\")"
   ]
  },
  {
   "cell_type": "code",
   "execution_count": null,
   "metadata": {},
   "outputs": [],
   "source": [
    "contour,hierarchies=cv.findContours(canny,cv.RETR_TREE,cv.CHAIN_APPROX_SIMPLE)  # CHAIN_APPROX_NONE = All contour   \n",
    "print(f\"{len(contour)} contour(s,found:)\")                                      # CHAIN_APPROX_SIMPLE = Compresed contour "
   ]
  },
  {
   "cell_type": "markdown",
   "metadata": {},
   "source": [
    "# Color Spaces #\n"
   ]
  },
  {
   "cell_type": "code",
   "execution_count": null,
   "metadata": {},
   "outputs": [],
   "source": [
    "###### BGR to HSV #########\n",
    "hsv = cv.cvtColor(resize,cv.COLOR_BGR2HSV)\n",
    "cv.imshow(\"HSV\",hsv)                   \n",
    "cv.waitKey(0)"
   ]
  },
  {
   "cell_type": "code",
   "execution_count": null,
   "metadata": {},
   "outputs": [],
   "source": [
    "###### BGR to LAB ##########\n",
    "lab = cv.cvtColor(resize,cv.COLOR_BGR2LAB)\n",
    "cv.imshow(\"LAB\",lab)                   \n",
    "cv.waitKey(0)"
   ]
  },
  {
   "cell_type": "code",
   "execution_count": null,
   "metadata": {},
   "outputs": [],
   "source": [
    "###### BGR to RGB ########\n",
    "rgb = cv.cvtColor(resize,cv.COLOR_BGR2RGB)\n",
    "cv.imshow(\"RGB\",rgb)                   \n",
    "cv.waitKey(0)"
   ]
  },
  {
   "cell_type": "code",
   "execution_count": null,
   "metadata": {},
   "outputs": [],
   "source": [
    "####### HSV to BGR ########\n",
    "bgr = cv.cvtColor(resize,cv.COLOR_HSV2BGR)\n",
    "cv.imshow(\"BGR\",bgr)                   \n",
    "cv.waitKey(0)"
   ]
  },
  {
   "cell_type": "code",
   "execution_count": null,
   "metadata": {},
   "outputs": [],
   "source": [
    "########### GRAY COLOR ##########\n",
    "gray=cv.cvtColor(resize,cv.COLOR_BGR2GRAY)\n",
    "cv.imshow(\"Gray\",gray)\n",
    "cv.waitKey(0)"
   ]
  },
  {
   "cell_type": "code",
   "execution_count": null,
   "metadata": {},
   "outputs": [],
   "source": [
    "cv.imshow(\"Original\",resize)\n",
    "cv.imshow(\"Gray\",gray)\n",
    "cv.imshow(\"HSV\",hsv)\n",
    "cv.imshow(\"LAB\",lab)\n",
    "cv.imshow(\"RGB\",rgb)\n",
    "cv.imshow(\"BGR\",bgr)                   \n",
    "cv.waitKey(0)"
   ]
  },
  {
   "cell_type": "markdown",
   "metadata": {},
   "source": [
    "# Bluring #"
   ]
  },
  {
   "cell_type": "code",
   "execution_count": null,
   "metadata": {},
   "outputs": [],
   "source": [
    "####### Average Blur ##########\n",
    "avg = cv.blur(resize,(3,3))\n",
    "cv.imshow(\"AVG_Blur\",avg)\n",
    "cv.waitKey(0)"
   ]
  },
  {
   "cell_type": "code",
   "execution_count": null,
   "metadata": {},
   "outputs": [],
   "source": [
    "####### Gaussian Blur ########\n",
    "gauss=cv.GaussianBlur(resize,(7,7),0)\n",
    "cv.imshow(\"Gaussian_Blur\",gauss)\n",
    "cv.waitKey(0)"
   ]
  },
  {
   "cell_type": "code",
   "execution_count": null,
   "metadata": {},
   "outputs": [],
   "source": [
    "###### Median Blur ####\n",
    "median=cv.medianBlur(resize,3)\n",
    "cv.imshow(\"Median_Blur\",median)\n",
    "cv.waitKey(0)"
   ]
  },
  {
   "cell_type": "code",
   "execution_count": null,
   "metadata": {},
   "outputs": [],
   "source": [
    "####### Bilateral Blur #####\n",
    "bilat=cv.bilateralFilter(resize,5,15,15)\n",
    "cv.imshow(\"Bilateral_Blur\",bilat)\n",
    "cv.waitKey(0)"
   ]
  },
  {
   "cell_type": "markdown",
   "metadata": {},
   "source": [
    "# Bitwise Operation #"
   ]
  },
  {
   "cell_type": "code",
   "execution_count": null,
   "metadata": {},
   "outputs": [],
   "source": [
    "rectangle=cv.rectangle(resize.copy(),(30,30),(370,370),255,-1)\n",
    "cv.imshow(\"Rect\",rectangle)\n",
    "cv.waitKey(0)\n"
   ]
  },
  {
   "cell_type": "code",
   "execution_count": null,
   "metadata": {},
   "outputs": [],
   "source": [
    "circle=cv.circle(resize.copy(),(200,200),200,255,-1)\n",
    "cv.imshow(\"Circ\",circle)\n",
    "cv.waitKey(0)\n"
   ]
  },
  {
   "cell_type": "code",
   "execution_count": null,
   "metadata": {},
   "outputs": [],
   "source": [
    "###### Bitwise AND #######\n",
    "bitwise_and=cv.bitwise_and(rectangle,circle)\n",
    "cv.imshow(\"\",bitwise_and)\n",
    "cv.waitKey(0)"
   ]
  },
  {
   "cell_type": "code",
   "execution_count": null,
   "metadata": {},
   "outputs": [],
   "source": [
    "###### Bitwise OR ########\n",
    "bitwise_or=cv.bitwise_or(rectangle,circle)\n",
    "cv.imshow(\"\",bitwise_or)\n",
    "cv.waitKey(0)"
   ]
  },
  {
   "cell_type": "code",
   "execution_count": null,
   "metadata": {},
   "outputs": [],
   "source": [
    "####### Bitwise NOT ########\n",
    "bitwise_not=cv.bitwise_not(rectangle)\n",
    "cv.imshow(\"\",bitwise_not)\n",
    "cv.waitKey(0)\n",
    "bitwise_not=cv.bitwise_not(circle)\n",
    "cv.imshow(\"\",bitwise_not)\n",
    "cv.waitKey(0)"
   ]
  },
  {
   "cell_type": "code",
   "execution_count": null,
   "metadata": {},
   "outputs": [],
   "source": [
    "######### Masking #############\n",
    "blank=np.zeros(resize.shape[:2],dtype=\"uint8\")\n",
    "mask=cv.circle(blank,(resize.shape[1]//2,resize.shape[0]//2),100,255,-1)\n",
    "masked=cv.bitwise_and(resize,resize,mask=mask)\n",
    "cv.imshow(\"\",masked)\n",
    "cv.waitKey(0)"
   ]
  }
 ],
 "metadata": {
  "kernelspec": {
   "display_name": "Python 3",
   "language": "python",
   "name": "python3"
  },
  "language_info": {
   "codemirror_mode": {
    "name": "ipython",
    "version": 3
   },
   "file_extension": ".py",
   "mimetype": "text/x-python",
   "name": "python",
   "nbconvert_exporter": "python",
   "pygments_lexer": "ipython3",
   "version": "3.8.8"
  }
 },
 "nbformat": 4,
 "nbformat_minor": 4
}
