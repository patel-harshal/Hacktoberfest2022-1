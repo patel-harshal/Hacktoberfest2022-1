{
 "cells": [
  {
   "cell_type": "code",
   "execution_count": 24,
   "id": "2bbd81d4",
   "metadata": {},
   "outputs": [
    {
     "name": "stdout",
     "output_type": "stream",
     "text": [
      "Preorder: 50 20 15 30 60 \n",
      "Inorder: 15 20 30 50 60 \n",
      "Postorder: 15 30 20 60 50 "
     ]
    }
   ],
   "source": [
    "class Node:\n",
    "    def __init__(self,data):\n",
    "        self.data = data\n",
    "        self.left = None\n",
    "        self.right = None\n",
    "\n",
    "def insertNode(root, data):\n",
    "    if root is None:\n",
    "        return Node(data)\n",
    "    \n",
    "    if root.data > data:\n",
    "        root.left = insertNode(root.left, data)\n",
    "    else:\n",
    "        root.right = insertNode(root.right, data)    \n",
    "    return root\n",
    "                        \n",
    "def preorder(root):\n",
    "    if root:\n",
    "        print(root.data, end = \" \")\n",
    "        preorder(root.left)\n",
    "        preorder(root.right)\n",
    "\n",
    "def inorder(root):\n",
    "    if root:\n",
    "        inorder(root.left)\n",
    "        print(root.data, end = \" \")\n",
    "        inorder(root.right)\n",
    "\n",
    "def postorder(root):\n",
    "    if root:\n",
    "        postorder(root.left)\n",
    "        postorder(root.right)\n",
    "        print(root.data, end = \" \")\n",
    "\n",
    "nd = Node(50)\n",
    "nd = insertNode(nd,20)\n",
    "nd = insertNode(nd,60)\n",
    "nd = insertNode(nd,30)\n",
    "nd = insertNode(nd,15)\n",
    "\n",
    "print(\"Preorder:\" , end = \" \")\n",
    "preorder(nd)\n",
    "print(\"\")\n",
    "print(\"Inorder:\" , end = \" \")\n",
    "inorder(nd)\n",
    "print(\"\")\n",
    "print(\"Postorder:\" , end = \" \")\n",
    "postorder(nd)\n"
   ]
  },
  {
   "cell_type": "code",
   "execution_count": null,
   "id": "2668e844",
   "metadata": {},
   "outputs": [],
   "source": [
    "class Node:\n",
    "    def __init__(self,data):\n",
    "        self.data = data\n",
    "        self.left = None\n",
    "        self.right = None\n",
    "\n",
    "\n",
    "def insertNode(root, data):\n",
    "    if root is None:\n",
    "        return Node(data)\n",
    "    \n",
    "    if root.data > data:\n",
    "        root.left = insertNode(root.left, data)\n",
    "    else:\n",
    "        root.right = insertNode(root.right, data)    \n",
    "    return root\n",
    "\n",
    "nd = Node(50)\n",
    "nd = insertNode(nd,20)\n",
    "nd = insertNode(nd,60)\n",
    "nd = insertNode(nd,30)\n",
    "nd = insertNode(nd,15)"
   ]
  }
 ],
 "metadata": {
  "kernelspec": {
   "display_name": "Python 3",
   "language": "python",
   "name": "python3"
  },
  "language_info": {
   "codemirror_mode": {
    "name": "ipython",
    "version": 3
   },
   "file_extension": ".py",
   "mimetype": "text/x-python",
   "name": "python",
   "nbconvert_exporter": "python",
   "pygments_lexer": "ipython3",
   "version": "3.8.8"
  }
 },
 "nbformat": 4,
 "nbformat_minor": 5
}
