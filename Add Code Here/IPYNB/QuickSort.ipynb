{
 "cells": [
  {
   "cell_type": "code",
   "execution_count": 30,
   "id": "94a38c0a",
   "metadata": {},
   "outputs": [],
   "source": [
    "def QuickSort(array, low, high):\n",
    "    if low < high:\n",
    "        pivot = Partition(array, low, high)\n",
    "        print(\"Pivot after partition:\" , pivot)\n",
    "        QuickSort(array, low, pivot - 1)\n",
    "        print(\"Array after first call:\" , array)\n",
    "        QuickSort(array, pivot + 1, high)\n",
    "        print(\"Array after second call:\" , array)"
   ]
  },
  {
   "cell_type": "code",
   "execution_count": 31,
   "id": "61bfa683",
   "metadata": {},
   "outputs": [],
   "source": [
    "def Partition(array, low, high):\n",
    "    pivot = array[high]\n",
    "    print(\"Pivot in partition:\" , pivot)\n",
    "    print(\"Low:\",low)\n",
    "    print(\"High:\",high)\n",
    "    i = low - 1\n",
    "    print(\"i out Loop:\",i)\n",
    "    print(\"Array in partition before swap:\" , array)\n",
    "    for idx in range(low, high):\n",
    "        print(\"Index out Loop:\",idx)\n",
    "        if array[idx] < pivot:\n",
    "            i+=1\n",
    "            print(\"Index in Loop:\",idx)\n",
    "            print(\"i in Loop:\",i)\n",
    "            temp = array[i]\n",
    "            array[i] = array[idx]\n",
    "            array[idx] = temp\n",
    "            print(\"Array in partition after first swap:\" , array)\n",
    "    temp = array[i+1]\n",
    "    array[i+1] = array[high]\n",
    "    array[high] = temp\n",
    "    print(\"Array in partition after second swap:\" , array)\n",
    "    return i+1"
   ]
  },
  {
   "cell_type": "code",
   "execution_count": 32,
   "id": "0279d27f",
   "metadata": {},
   "outputs": [
    {
     "name": "stdout",
     "output_type": "stream",
     "text": [
      "Pivot in partition: 1\n",
      "Low: 0\n",
      "High: 6\n",
      "i out Loop: -1\n",
      "Array in partition before swap: [80, 12, 4, 8, 7, 0, 1]\n",
      "Index out Loop: 0\n",
      "Index out Loop: 1\n",
      "Index out Loop: 2\n",
      "Index out Loop: 3\n",
      "Index out Loop: 4\n",
      "Index out Loop: 5\n",
      "Index in Loop: 5\n",
      "i in Loop: 0\n",
      "Array in partition after first swap: [0, 12, 4, 8, 7, 80, 1]\n",
      "Array in partition after second swap: [0, 1, 4, 8, 7, 80, 12]\n",
      "Pivot after partition: 1\n",
      "Array after first call: [0, 1, 4, 8, 7, 80, 12]\n",
      "Pivot in partition: 12\n",
      "Low: 2\n",
      "High: 6\n",
      "i out Loop: 1\n",
      "Array in partition before swap: [0, 1, 4, 8, 7, 80, 12]\n",
      "Index out Loop: 2\n",
      "Index in Loop: 2\n",
      "i in Loop: 2\n",
      "Array in partition after first swap: [0, 1, 4, 8, 7, 80, 12]\n",
      "Index out Loop: 3\n",
      "Index in Loop: 3\n",
      "i in Loop: 3\n",
      "Array in partition after first swap: [0, 1, 4, 8, 7, 80, 12]\n",
      "Index out Loop: 4\n",
      "Index in Loop: 4\n",
      "i in Loop: 4\n",
      "Array in partition after first swap: [0, 1, 4, 8, 7, 80, 12]\n",
      "Index out Loop: 5\n",
      "Array in partition after second swap: [0, 1, 4, 8, 7, 12, 80]\n",
      "Pivot after partition: 5\n",
      "Pivot in partition: 7\n",
      "Low: 2\n",
      "High: 4\n",
      "i out Loop: 1\n",
      "Array in partition before swap: [0, 1, 4, 8, 7, 12, 80]\n",
      "Index out Loop: 2\n",
      "Index in Loop: 2\n",
      "i in Loop: 2\n",
      "Array in partition after first swap: [0, 1, 4, 8, 7, 12, 80]\n",
      "Index out Loop: 3\n",
      "Array in partition after second swap: [0, 1, 4, 7, 8, 12, 80]\n",
      "Pivot after partition: 3\n",
      "Array after first call: [0, 1, 4, 7, 8, 12, 80]\n",
      "Array after second call: [0, 1, 4, 7, 8, 12, 80]\n",
      "Array after first call: [0, 1, 4, 7, 8, 12, 80]\n",
      "Array after second call: [0, 1, 4, 7, 8, 12, 80]\n",
      "Array after second call: [0, 1, 4, 7, 8, 12, 80]\n"
     ]
    },
    {
     "data": {
      "text/plain": [
       "[0, 1, 4, 7, 8, 12, 80]"
      ]
     },
     "execution_count": 32,
     "metadata": {},
     "output_type": "execute_result"
    }
   ],
   "source": [
    "array = [80,12,4,8,7,0,1]\n",
    "QuickSort(array, 0, len(array)-1)\n",
    "array"
   ]
  },
  {
   "cell_type": "code",
   "execution_count": null,
   "id": "76993cf5",
   "metadata": {},
   "outputs": [],
   "source": []
  }
 ],
 "metadata": {
  "kernelspec": {
   "display_name": "Python 3",
   "language": "python",
   "name": "python3"
  },
  "language_info": {
   "codemirror_mode": {
    "name": "ipython",
    "version": 3
   },
   "file_extension": ".py",
   "mimetype": "text/x-python",
   "name": "python",
   "nbconvert_exporter": "python",
   "pygments_lexer": "ipython3",
   "version": "3.8.8"
  }
 },
 "nbformat": 4,
 "nbformat_minor": 5
}
