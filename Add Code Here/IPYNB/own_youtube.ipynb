{
 "cells": [
  {
   "cell_type": "markdown",
   "id": "7195b872",
   "metadata": {},
   "source": [
    "# Own Youtube\n",
    "### Download audio and video from youtube \n",
    "###### Uncomment to install library\n",
    "--------------------------------------"
   ]
  },
  {
   "cell_type": "code",
   "execution_count": 1,
   "id": "b9f12a85",
   "metadata": {},
   "outputs": [],
   "source": [
    "#!pip install pytube==12.1.0 \n",
    "#!pip install moviepy==1.0.3"
   ]
  },
  {
   "cell_type": "code",
   "execution_count": 2,
   "id": "aea12d44",
   "metadata": {},
   "outputs": [],
   "source": [
    "import time\n",
    "import moviepy.editor as mpe\n",
    "\n",
    "from pytube import YouTube"
   ]
  },
  {
   "cell_type": "code",
   "execution_count": 18,
   "id": "92eb2e66",
   "metadata": {},
   "outputs": [
    {
     "name": "stdout",
     "output_type": "stream",
     "text": [
      "Copiar enlace de Youtube a descargar: https://www.youtube.com/watch?v=H_hgw-V-wBI\n"
     ]
    }
   ],
   "source": [
    "link = input('Copiar enlace de Youtube a descargar: ')\n",
    "yt = YouTube(link)\n"
   ]
  },
  {
   "cell_type": "code",
   "execution_count": 4,
   "id": "65170cf3",
   "metadata": {},
   "outputs": [
    {
     "name": "stdout",
     "output_type": "stream",
     "text": [
      "1. Audio\n",
      "2. Video\n",
      "2\n"
     ]
    }
   ],
   "source": [
    "opcion = input('1. Audio\\n2. Video\\n')"
   ]
  },
  {
   "cell_type": "code",
   "execution_count": 5,
   "id": "c5576e0f",
   "metadata": {},
   "outputs": [],
   "source": [
    "stream = yt.streams"
   ]
  },
  {
   "cell_type": "code",
   "execution_count": 6,
   "id": "a1895267",
   "metadata": {},
   "outputs": [],
   "source": [
    "\n",
    "def ytAudio():\n",
    "    # se escoge la mejor resolucion de audio\n",
    "    stream = yt.streams.filter(only_audio = True)\n",
    "    streamList = list(stream.order_by('abr'))\n",
    "    # ultimo elemento de la lista que es de mayor calidad\n",
    "    lastElementListMayorQuality = len(streamList)-1 \n",
    "\n",
    "    itag = str(streamList[lastElementListMayorQuality].itag) \n",
    "    name = str(yt.title)+'.mp3'\n",
    "    return name, itag\n",
    "\n",
    "\n",
    "def ytVideo():\n",
    "    stream = yt.streams.filter(file_extension='mp4', res='720p', progressive=\"True\")\n",
    "    streamList = list(stream.order_by('resolution'))\n",
    "    lastElementListMayorQuality = len(streamList)-1 \n",
    "        \n",
    "    itag = str(streamList[lastElementListMayorQuality].itag)\n",
    "    return itag\n",
    "\n",
    "\n",
    "def combine_audio(video, audio, outname, fps=30):\n",
    "    my_clip = mpe.VideoFileClip(video)\n",
    "    audio_background = mpe.AudioFileClip(audio)\n",
    "    final_clip = my_clip.set_audio(audio_background)\n",
    "    final_clip.write_videofile(outname,fps=fps)\n"
   ]
  },
  {
   "cell_type": "code",
   "execution_count": 7,
   "id": "34d0ca07",
   "metadata": {},
   "outputs": [
    {
     "name": "stdout",
     "output_type": "stream",
     "text": [
      "Iniciando Descarga\n"
     ]
    }
   ],
   "source": [
    "print('Iniciando Descarga')"
   ]
  },
  {
   "cell_type": "code",
   "execution_count": 19,
   "id": "6e281aed",
   "metadata": {
    "scrolled": true
   },
   "outputs": [],
   "source": [
    "itag = \"\"\n",
    "if opcion == '1':\n",
    "    name, itag = ytAudio()\n",
    "    itag = str(itag)\n",
    "    stream = yt.streams.get_by_itag(itag)\n",
    "    stream.download(filename=name)\n",
    "else:\n",
    "    itagVideo = str(ytVideo())\n",
    "    stream = yt.streams.get_by_itag(itagVideo)\n",
    "    stream.download()\n",
    "    name, itag = ytAudio()\n",
    "    \n",
    "    yt.streams.get_by_itag(str(itag)).download(filename=name)\n",
    "    audio = name\n",
    "    video = stream.title\n",
    "    \n",
    "    \n"
   ]
  },
  {
   "cell_type": "code",
   "execution_count": 21,
   "id": "d2b0592e",
   "metadata": {},
   "outputs": [
    {
     "name": "stderr",
     "output_type": "stream",
     "text": [
      "chunk:   3%|█▋                                                          | 198/6869 [00:00<00:06, 1049.21it/s, now=None]"
     ]
    },
    {
     "name": "stdout",
     "output_type": "stream",
     "text": [
      "Moviepy - Building video Billie Eilish - Happier Than Ever (64th GRAMMY Awards Performance)_.mp4.\n",
      "MoviePy - Writing audio in Billie Eilish - Happier Than Ever (64th GRAMMY Awards Performance)_TEMP_MPY_wvf_snd.mp3\n"
     ]
    },
    {
     "name": "stderr",
     "output_type": "stream",
     "text": [
      "t:   0%|                                                                  | 16/9347 [00:00<00:59, 156.86it/s, now=None]"
     ]
    },
    {
     "name": "stdout",
     "output_type": "stream",
     "text": [
      "MoviePy - Done.\n",
      "Moviepy - Writing video Billie Eilish - Happier Than Ever (64th GRAMMY Awards Performance)_.mp4\n",
      "\n"
     ]
    },
    {
     "name": "stderr",
     "output_type": "stream",
     "text": [
      "                                                                                                                       \r"
     ]
    },
    {
     "name": "stdout",
     "output_type": "stream",
     "text": [
      "Moviepy - Done !\n",
      "Moviepy - video ready Billie Eilish - Happier Than Ever (64th GRAMMY Awards Performance)_.mp4\n"
     ]
    }
   ],
   "source": [
    "combine_audio(video+\".mp4\", audio, video+\".mp4\")"
   ]
  },
  {
   "cell_type": "code",
   "execution_count": 10,
   "id": "e554d464",
   "metadata": {},
   "outputs": [
    {
     "name": "stdout",
     "output_type": "stream",
     "text": [
      "Descarga Finalizada\n"
     ]
    }
   ],
   "source": [
    "print('Descarga Finalizada')"
   ]
  }
 ],
 "metadata": {
  "kernelspec": {
   "display_name": "Python 3",
   "language": "python",
   "name": "python3"
  },
  "language_info": {
   "codemirror_mode": {
    "name": "ipython",
    "version": 3
   },
   "file_extension": ".py",
   "mimetype": "text/x-python",
   "name": "python",
   "nbconvert_exporter": "python",
   "pygments_lexer": "ipython3",
   "version": "3.8.8"
  }
 },
 "nbformat": 4,
 "nbformat_minor": 5
}
