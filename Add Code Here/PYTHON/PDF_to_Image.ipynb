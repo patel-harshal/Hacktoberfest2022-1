{
  "nbformat": 4,
  "nbformat_minor": 0,
  "metadata": {
    "colab": {
      "provenance": []
    },
    "kernelspec": {
      "name": "python3",
      "display_name": "Python 3"
    },
    "language_info": {
      "name": "python"
    },
    "accelerator": "GPU",
    "gpuClass": "standard"
  },
  "cells": [
    {
      "cell_type": "code",
      "source": [
        "!pip install pdf2image\n",
        "!apt-get install poppler-utils "
      ],
      "metadata": {
        "id": "b-vqxQHTtpnF"
      },
      "execution_count": null,
      "outputs": []
    },
    {
      "cell_type": "code",
      "source": [
        "# import OS module\n",
        "import os\n",
        "from pdf2image import convert_from_path\n",
        "\n",
        "# not supported for direct pdf urls\n",
        "pdf_url=\"/content/sample.pdf\"\n",
        "\n",
        "def isOuputFolderCreated(path):\n",
        "    print(path)\n",
        "    if not os.path.exists(path):\n",
        "      \n",
        "    # if the demo_folder directory is not present \n",
        "    # then create it.\n",
        "        os.makedirs(path)\n",
        "\n",
        "def convert_pdf_to_images(pdf_path):\n",
        "    output_image_name=pdf_path.split(\"/\")[-1].split(\".\")[0]\n",
        "    a=pdf_url.split(\"/\")\n",
        "    del a[-1]\n",
        "    base_dir=\"/\".join(a)\n",
        "    # print(pdf_path)\n",
        "    # print(output_image_name)\n",
        "    images = convert_from_path(pdf_path);\n",
        "    isOuputFolderCreated(f'{base_dir}/output')\n",
        "    for index, image in enumerate(images):\n",
        "        # print(index,image)\n",
        "        image.save(f'{base_dir}/output/{output_image_name}-{index+1}.png')\n",
        "        # to display image in output\n",
        "        # display(image) \n",
        "\n",
        "\n",
        "def task():\n",
        "    convert_pdf_to_images(pdf_url)\n",
        "    # convert_pdf_to_images('example-multipage.pdf')\n",
        "\n",
        "\n",
        "if __name__ == \"__main__\":\n",
        "    task()\n",
        "  "
      ],
      "metadata": {
        "id": "vkrQh37TVU_1"
      },
      "execution_count": null,
      "outputs": []
    }
  ]
}